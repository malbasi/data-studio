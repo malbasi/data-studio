{
 "cells": [
  {
   "cell_type": "code",
   "execution_count": 1,
   "metadata": {},
   "outputs": [],
   "source": [
    "import pandas as pd\n",
    "import matplotlib.pyplot as plt\n",
    "from pygeocoder import Geocoder\n",
    "import numpy as np\n",
    "from cycler import cycler\n",
    "import re\n",
    "\n",
    "import glob\n",
    "\n",
    "%matplotlib inline"
   ]
  },
  {
   "cell_type": "code",
   "execution_count": 2,
   "metadata": {},
   "outputs": [],
   "source": [
    "#Import style\n",
    "plt.rcdefaults()\n",
    "plt.rcParams.update({\n",
    "    'pdf.fonttype': 42,\n",
    "    'ps.fonttype': 42,\n",
    "    'font.family': 'Futura Std',\n",
    "    'font.style' : 'normal',\n",
    "    'font.weight' : '100',\n",
    "    'font.stretch' : 'ultra-condensed',\n",
    "    \n",
    "    'figure.facecolor'    : '#FDF6E3',\n",
    "\n",
    "    \n",
    "    'patch.antialiased'   : True,\n",
    "\n",
    "    'lines.linewidth'     : 2.0,\n",
    "    'lines.solid_capstyle': 'butt',\n",
    "\n",
    "    'axes.titlesize'      : 16,\n",
    "    'axes.labelsize'      : 12,\n",
    "    'axes.labelcolor'     : '#657b83',\n",
    "    'axes.facecolor'      : '#eee8d5',\n",
    "    'axes.edgecolor'      : '#eee8d5',\n",
    "    'axes.axisbelow'      : True,\n",
    "    'axes.prop_cycle'    : cycler('color', ['#268BD2','#d26c3d', '#dbd7ad', '#f6c5af', '#d7da00', '#7db49f', '#86a3ba']),\n",
    "\n",
    "    'axes.grid'           : False,\n",
    "    'grid.color'          : '#ffffff',    # grid color\n",
    "    'grid.linestyle'      : ':',         # line\n",
    "    'grid.linewidth'      : 1,        # in points\n",
    "\n",
    "    ### TICKS\n",
    "    'xtick.color'         : '#657b83',\n",
    "    'xtick.direction'     : 'out',\n",
    "    'xtick.labelsize' : 14,\n",
    "    'ytick.labelsize' : 14,\n",
    "\n",
    "    'ytick.color'         : '#657b83',\n",
    "    'ytick.direction'     : 'out',\n",
    "    \n",
    "})"
   ]
  },
  {
   "cell_type": "code",
   "execution_count": null,
   "metadata": {},
   "outputs": [],
   "source": [
    "pd.read_csv(\"\")"
   ]
  }
 ],
 "metadata": {
  "kernelspec": {
   "display_name": "Python 3",
   "language": "python",
   "name": "python3"
  },
  "language_info": {
   "codemirror_mode": {
    "name": "ipython",
    "version": 3
   },
   "file_extension": ".py",
   "mimetype": "text/x-python",
   "name": "python",
   "nbconvert_exporter": "python",
   "pygments_lexer": "ipython3",
   "version": "3.6.5"
  }
 },
 "nbformat": 4,
 "nbformat_minor": 2
}
